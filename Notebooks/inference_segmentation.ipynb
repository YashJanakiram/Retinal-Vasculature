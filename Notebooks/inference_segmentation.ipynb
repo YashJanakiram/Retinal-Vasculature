{
 "cells": [
  {
   "cell_type": "code",
   "execution_count": null,
   "metadata": {},
   "outputs": [],
   "source": [
    "from pathlib import Path\n",
    "import os\n",
    "\n",
    "import numpy as np\n",
    "from PIL import Image\n",
    "import torch\n",
    "from tqdm import tqdm\n",
    "from rtnls_inference import (\n",
    "    SegmentationEnsemble,\n",
    ")\n",
    "from rtnls_inference.utils import decollate_batch"
   ]
  },
  {
   "cell_type": "code",
   "execution_count": null,
   "metadata": {},
   "outputs": [],
   "source": [
    "ds_path = Path(\"../samples/fundus\")\n",
    "\n",
    "# these are the output folders for:\n",
    "av_path = ds_path / \"av\"                # artery-vein segmentations\n",
    "vessels_path = ds_path / \"vessels\"          # optic disc segmentations\n",
    "\n",
    "device = torch.device(\"cuda:1\")         # device to use for inference"
   ]
  },
  {
   "cell_type": "code",
   "execution_count": null,
   "metadata": {},
   "outputs": [],
   "source": [
    "# Load models\n",
    "ensemble_av = SegmentationEnsemble.from_huggingface('Eyened/vascx:artery_vein/av_july24.pt').to(device).eval()\n",
    "ensemble_vessels = (\n",
    "    SegmentationEnsemble.from_huggingface('Eyened/vascx:vessels/vessels_july24.pt').to(device).eval()\n",
    ")\n"
   ]
  },
  {
   "cell_type": "code",
   "execution_count": null,
   "metadata": {},
   "outputs": [],
   "source": [
    "rgb_paths = list((ds_path / 'original').glob('*'))"
   ]
  },
  {
   "cell_type": "code",
   "execution_count": null,
   "metadata": {},
   "outputs": [],
   "source": [
    "rgb_paths"
   ]
  },
  {
   "cell_type": "code",
   "execution_count": null,
   "metadata": {},
   "outputs": [],
   "source": [
    "\n",
    "# Create dataloader\n",
    "dataloader = ensemble_av._make_inference_dataloader(\n",
    "    rgb_paths,\n",
    "    num_workers=8,\n",
    "    preprocess=True,\n",
    "    batch_size=8,\n",
    ")"
   ]
  },
  {
   "cell_type": "code",
   "execution_count": null,
   "metadata": {},
   "outputs": [],
   "source": [
    "# Run inference\n",
    "av_masks = []\n",
    "vessel_masks = []\n",
    "with torch.no_grad():\n",
    "    for batch in tqdm(dataloader):\n",
    "        # AV segmentation\n",
    "        with torch.autocast(device_type=device.type):\n",
    "            proba = ensemble_av.forward(batch[\"image\"].to(device))\n",
    "        proba = torch.mean(proba, dim=1)  # average over models\n",
    "        proba = torch.permute(proba, (0, 2, 3, 1))  # NCHW -> NHWC\n",
    "        proba = torch.nn.functional.softmax(proba, dim=-1)\n",
    "\n",
    "        items = {\n",
    "            \"id\": batch[\"id\"],\n",
    "            \"image\": proba,\n",
    "        }\n",
    "\n",
    "        items = decollate_batch(items)\n",
    "        for i, item in enumerate(items):\n",
    "            fpath = os.path.join(av_path, f\"{item['id']}.png\")\n",
    "            mask = np.argmax(item[\"image\"], -1)\n",
    "            av_masks.append(mask.squeeze().astype(np.uint8))\n",
    "\n",
    "        # Vessel segmentation\n",
    "        with torch.autocast(device_type=device.type):\n",
    "            proba = ensemble_vessels.forward(batch[\"image\"].to(device))\n",
    "        proba = torch.mean(proba, dim=1)  # average over models\n",
    "        proba = torch.permute(proba, (0, 2, 3, 1))  # NCHW -> NHWC\n",
    "        proba = torch.nn.functional.softmax(proba, dim=-1)\n",
    "\n",
    "        items = {\n",
    "            \"id\": batch[\"id\"],\n",
    "            \"image\": proba,\n",
    "        }\n",
    "\n",
    "        items = decollate_batch(items)\n",
    "        for i, item in enumerate(items):\n",
    "            fpath = os.path.join(vessels_path, f\"{item['id']}.png\")\n",
    "            mask = np.argmax(item[\"image\"], -1)\n",
    "            vessel_masks.append(mask.squeeze().astype(np.uint8))\n"
   ]
  },
  {
   "cell_type": "code",
   "execution_count": null,
   "metadata": {},
   "outputs": [],
   "source": [
    "from matplotlib import pyplot as plt"
   ]
  },
  {
   "cell_type": "code",
   "execution_count": null,
   "metadata": {},
   "outputs": [],
   "source": [
    "plt.imshow(av_masks[0])"
   ]
  },
  {
   "cell_type": "code",
   "execution_count": null,
   "metadata": {},
   "outputs": [],
   "source": [
    "plt.imshow(av_masks[1])"
   ]
  },
  {
   "cell_type": "code",
   "execution_count": null,
   "metadata": {},
   "outputs": [],
   "source": []
  }
 ],
 "metadata": {
  "kernelspec": {
   "display_name": "rtnls",
   "language": "python",
   "name": "python3"
  },
  "language_info": {
   "codemirror_mode": {
    "name": "ipython",
    "version": 3
   },
   "file_extension": ".py",
   "mimetype": "text/x-python",
   "name": "python",
   "nbconvert_exporter": "python",
   "pygments_lexer": "ipython3",
   "version": "3.12.11"
  }
 },
 "nbformat": 4,
 "nbformat_minor": 2
}
